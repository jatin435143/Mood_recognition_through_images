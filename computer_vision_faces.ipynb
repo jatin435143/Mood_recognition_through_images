{
 "cells": [
  {
   "cell_type": "code",
   "execution_count": 4,
   "id": "3a610747-a5e4-408b-ba13-b92695cfd809",
   "metadata": {},
   "outputs": [],
   "source": [
    "import numpy as np\n",
    "import pandas as pd\n",
    "from PIL import Image\n",
    "import os\n",
    "import matplotlib.pyplot as plt\n"
   ]
  },
  {
   "cell_type": "markdown",
   "id": "bc487053-f8e7-43f1-80cc-a41ed1493e44",
   "metadata": {},
   "source": [
    "### Importing images in the form of numpy arrays"
   ]
  },
  {
   "cell_type": "code",
   "execution_count": 5,
   "id": "b930091a-4d02-43e9-8c50-b317189b9729",
   "metadata": {},
   "outputs": [
    {
     "data": {
      "image/png": "[encoded data removed]",
      "text/plain": [
       "<Figure size 640x480 with 1 Axes>"
      ]
     },
     "metadata": {},
     "output_type": "display_data"
    }
   ],
   "source": [
    "folder_path = r\"C:\\Users\\Jatin Sharma\\Downloads\\archive (8)\\train\\surprised\"\n",
    "image_files = [f for f in os.listdir(folder_path) if f.endswith(('jpg', 'jpeg', 'png', 'bmp', 'gif'))]\n",
    "images = []\n",
    "for file in image_files:\n",
    "    image_path = os.path.join(folder_path, file)\n",
    "    image = Image.open(image_path)\n",
    "    image_array = np.array(image)\n",
    "    images.append(image_array)\n",
    "# Display the first image as an example\n",
    "plt.imshow(images[0])\n",
    "plt.axis('off')  # Hide the axes\n",
    "plt.show()\n"
   ]
  },
  {
   "cell_type": "code",
   "execution_count": 6,
   "id": "ac552ea6-15ed-4496-864b-23f491f776b3",
   "metadata": {},
   "outputs": [],
   "source": [
    "image_surprised=images"
   ]
  },
  {
   "cell_type": "code",
   "execution_count": 7,
   "id": "55869d2b-b014-4819-8685-b7b9d72e5c2f",
   "metadata": {},
   "outputs": [],
   "source": [
    "folder_path = r\"C:\\Users\\Jatin Sharma\\Downloads\\archive (8)\\train\\angry\"\n",
    "image_files = [f for f in os.listdir(folder_path) if f.endswith(('jpg', 'jpeg', 'png', 'bmp', 'gif'))]\n",
    "images = []\n",
    "for file in image_files:\n",
    "    image_path = os.path.join(folder_path, file)\n",
    "    image = Image.open(image_path)\n",
    "    image_array = np.array(image)\n",
    "    images.append(image_array)\n",
    "images_angry=images\n",
    "folder_path = r\"C:\\Users\\Jatin Sharma\\Downloads\\archive (8)\\train\\sad\"\n",
    "image_files = [f for f in os.listdir(folder_path) if f.endswith(('jpg', 'jpeg', 'png', 'bmp', 'gif'))]\n",
    "images = []\n",
    "for file in image_files:\n",
    "    image_path = os.path.join(folder_path, file)\n",
    "    image = Image.open(image_path)\n",
    "    image_array = np.array(image)\n",
    "    images.append(image_array)\n",
    "image_sad=images\n",
    "folder_path = r\"C:\\Users\\Jatin Sharma\\Downloads\\archive (8)\\train\\happy\"\n",
    "image_files = [f for f in os.listdir(folder_path) if f.endswith(('jpg', 'jpeg', 'png', 'bmp', 'gif'))]\n",
    "images = []\n",
    "for file in image_files:\n",
    "    image_path = os.path.join(folder_path, file)\n",
    "    image = Image.open(image_path)\n",
    "    image_array = np.array(image)\n",
    "    images.append(image_array)\n",
    "image_happy=images\n",
    "folder_path = r\"C:\\Users\\Jatin Sharma\\Downloads\\archive (8)\\train\\fearful\"\n",
    "image_files = [f for f in os.listdir(folder_path) if f.endswith(('jpg', 'jpeg', 'png', 'bmp', 'gif'))]\n",
    "images = []\n",
    "for file in image_files:\n",
    "    image_path = os.path.join(folder_path, file)\n",
    "    image = Image.open(image_path)\n",
    "    image_array = np.array(image)\n",
    "    images.append(image_array)\n",
    "image_neutral=images"
   ]
  },
  {
   "cell_type": "code",
   "execution_count": 8,
   "id": "3f482848-ee04-4a60-a4f9-3ef8c0874a9e",
   "metadata": {},
   "outputs": [],
   "source": [
    "image_angry=images_angry"
   ]
  },
  {
   "cell_type": "code",
   "execution_count": 9,
   "id": "2be46820-7de1-48cc-980f-b7646de58978",
   "metadata": {},
   "outputs": [],
   "source": [
    "extra_angry=image_angry\n",
    "extra_surprised=image_surprised\n",
    "extra_happy=image_happy\n",
    "extra_sad=image_sad\n",
    "extra_neutral=image_neutral"
   ]
  },
  {
   "cell_type": "code",
   "execution_count": 10,
   "id": "b3d8639d-2350-4c0b-8e99-f860e6155c57",
   "metadata": {},
   "outputs": [],
   "source": [
    "label_surprised=np.full(len(image_surprised),'surprised')\n",
    "label_neutral=np.full(len(image_neutral),'neutral')\n",
    "label_happy=np.full(len(image_happy),'happy')\n",
    "label_sad=np.full(len(image_sad),'sad')\n",
    "label_angry=np.full(len(image_angry),'angry')"
   ]
  },
  {
   "cell_type": "code",
   "execution_count": 11,
   "id": "40958476-da7d-4dbb-86e6-565edeb0febb",
   "metadata": {},
   "outputs": [],
   "source": [
    "image_angry=np.array(image_angry)\n",
    "image_surprised=np.array(image_surprised)\n",
    "image_happy=np.array(image_happy)\n",
    "image_sad=np.array(image_sad)\n",
    "image_neutral=np.array(image_neutral)"
   ]
  },
  {
   "cell_type": "code",
   "execution_count": 12,
   "id": "b2bc6e87-1f78-4813-9a1b-09daadf98b2e",
   "metadata": {},
   "outputs": [],
   "source": [
    "image_angry=image_angry.reshape(image_angry.shape[0],48*48)\n",
    "image_surprised=image_surprised.reshape(image_surprised.shape[0],48*48)\n",
    "image_happy=image_happy.reshape(image_happy.shape[0],48*48)\n",
    "image_sad=image_sad.reshape(image_sad.shape[0],48*48)\n",
    "image_neutral=image_neutral.reshape(image_neutral.shape[0],48*48)"
   ]
  },
  {
   "cell_type": "markdown",
   "id": "e6ff8584-3295-42c0-9bfd-759c47a64585",
   "metadata": {},
   "source": [
    "### Combining the numpy arrays of all 5 types of moods"
   ]
  },
  {
   "cell_type": "code",
   "execution_count": 14,
   "id": "2e3bff69-2f87-4d5c-b865-61c3228e294e",
   "metadata": {},
   "outputs": [],
   "source": [
    "X_train=np.array([])\n",
    "#X_train.append(image_surprised,image_neutral,image_happy,image_sad,image_angry)"
   ]
  },
  {
   "cell_type": "code",
   "execution_count": 16,
   "id": "d6989914-8456-4be5-b364-82c65fc8d50f",
   "metadata": {},
   "outputs": [],
   "source": [
    "X_train=np.append(X_train,image_angry)\n",
    "X_train=np.append(X_train,image_surprised)\n",
    "X_train=np.append(X_train,image_happy)\n",
    "X_train=np.append(X_train,image_sad)\n",
    "X_train=np.append(X_train,image_neutral)\n",
    "X_train=X_train.reshape(int(X_train.shape[0]//2304),2304)"
   ]
  },
  {
   "cell_type": "code",
   "execution_count": 17,
   "id": "a4d9b0ff-7ed8-4765-9d65-a47c296a4240",
   "metadata": {},
   "outputs": [
    {
     "data": {
      "text/plain": [
       "(23308, 2304)"
      ]
     },
     "execution_count": 17,
     "metadata": {},
     "output_type": "execute_result"
    }
   ],
   "source": [
    "X_train.shape"
   ]
  },
  {
   "cell_type": "code",
   "execution_count": 18,
   "id": "c871dd90-6e4b-41f1-991a-4679d5a520b3",
   "metadata": {},
   "outputs": [],
   "source": [
    "Y_train=np.array([])\n",
    "Y_train=np.append(Y_train,label_angry)\n",
    "Y_train=np.append(Y_train,label_surprised)\n",
    "Y_train=np.append(Y_train,label_happy)\n",
    "Y_train=np.append(Y_train,label_sad)\n",
    "Y_train=np.append(Y_train,label_neutral)"
   ]
  },
  {
   "cell_type": "code",
   "execution_count": 19,
   "id": "791a60a2-b3ee-460b-ad63-e6e758aada7e",
   "metadata": {},
   "outputs": [
    {
     "data": {
      "text/plain": [
       "(23308,)"
      ]
     },
     "execution_count": 19,
     "metadata": {},
     "output_type": "execute_result"
    }
   ],
   "source": [
    "Y_train.shape"
   ]
  },
  {
   "cell_type": "code",
   "execution_count": 20,
   "id": "63d72d48-c72b-4b61-894a-08eb473541b0",
   "metadata": {},
   "outputs": [
    {
     "data": {
      "text/plain": [
       "array([[ 70.,  80.,  82., ..., 106., 109.,  82.],\n",
       "       [151., 150., 147., ..., 193., 183., 184.],\n",
       "       [117., 116., 113., ...,  46.,  47.,  49.],\n",
       "       ...,\n",
       "       [215., 215., 215., ..., 170., 152., 156.],\n",
       "       [250., 250., 250., ...,  21.,  23.,  20.],\n",
       "       [224., 229., 236., ..., 109., 124., 124.]])"
      ]
     },
     "execution_count": 20,
     "metadata": {},
     "output_type": "execute_result"
    }
   ],
   "source": [
    "X_train"
   ]
  },
  {
   "cell_type": "code",
   "execution_count": 21,
   "id": "34160f3d-114b-4dbc-88a3-61a6b7e8b504",
   "metadata": {},
   "outputs": [
    {
     "data": {
      "text/plain": [
       "array(['angry', 'angry', 'angry', ..., 'neutral', 'neutral', 'neutral'],\n",
       "      dtype='<U32')"
      ]
     },
     "execution_count": 21,
     "metadata": {},
     "output_type": "execute_result"
    }
   ],
   "source": [
    "Y_train"
   ]
  },
  {
   "cell_type": "markdown",
   "id": "82ff1eba-4845-432f-8167-68e648bc1018",
   "metadata": {},
   "source": [
    "#### creating a emotions dictionary to assign numbers to the emotions for calculations"
   ]
  },
  {
   "cell_type": "code",
   "execution_count": 22,
   "id": "bb7d44a7-5fd8-4851-86fb-c5302579161e",
   "metadata": {},
   "outputs": [],
   "source": [
    "emotions={'angry':0,'surprised':1,'happy':2,'sad':3,'neutral':4} # isko dict banao bhai\n",
    "emotions_no=[1,2,3,4,5]\n"
   ]
  },
  {
   "cell_type": "markdown",
   "id": "a057da31-3a17-464b-a850-64a96bfc11bf",
   "metadata": {},
   "source": [
    "## Splliting the data into test and train set (taken train set just 40% for faster implementation of code )"
   ]
  },
  {
   "cell_type": "code",
   "execution_count": 23,
   "id": "648c90c9-b949-48b8-bc66-ea27aff5885f",
   "metadata": {},
   "outputs": [],
   "source": [
    "from sklearn.model_selection import train_test_split\n"
   ]
  },
  {
   "cell_type": "code",
   "execution_count": 24,
   "id": "7e0f8b09-db90-4591-acd3-0f744bad9207",
   "metadata": {},
   "outputs": [
    {
     "data": {
      "text/plain": [
       "(23308, 1)"
      ]
     },
     "execution_count": 24,
     "metadata": {},
     "output_type": "execute_result"
    }
   ],
   "source": [
    "X_train=pd.DataFrame(X_train)\n",
    "Y_train=pd.DataFrame(Y_train)\n",
    "X_train.shape\n",
    "Y_train.shape"
   ]
  },
  {
   "cell_type": "code",
   "execution_count": 25,
   "id": "d4d12aad-6c40-4b08-8ba6-f47ed8337784",
   "metadata": {},
   "outputs": [],
   "source": [
    "X_train_1,X_test_1,Y_train_1,Y_test_1=train_test_split(X_train, Y_train, test_size=0.6,random_state=42)\n"
   ]
  },
  {
   "cell_type": "code",
   "execution_count": 26,
   "id": "6f0925de-1d42-489b-97e1-5ac7166a970f",
   "metadata": {},
   "outputs": [
    {
     "data": {
      "text/plain": [
       "(9323, 1)"
      ]
     },
     "execution_count": 26,
     "metadata": {},
     "output_type": "execute_result"
    }
   ],
   "source": [
    "Y_train_1.shape"
   ]
  },
  {
   "cell_type": "markdown",
   "id": "fc997d5d-b54d-4a3f-949d-b7b3d3c502aa",
   "metadata": {},
   "source": [
    "#### Converting the train sets shape into (features,examples) form"
   ]
  },
  {
   "cell_type": "code",
   "execution_count": 27,
   "id": "ccd02daa-3263-4501-9d31-64c716edf452",
   "metadata": {},
   "outputs": [],
   "source": [
    "X_train_1=X_train_1.T\n",
    "Y_train_1=np.array(Y_train_1)\n",
    "Y_train_1=Y_train_1.reshape(len(Y_train_1),)\n"
   ]
  },
  {
   "cell_type": "markdown",
   "id": "cce44b1d-6c67-4cde-a1ab-88a1fc1d3710",
   "metadata": {},
   "source": [
    "#### scaling down the numbers in train set for faster implementation"
   ]
  },
  {
   "cell_type": "code",
   "execution_count": 28,
   "id": "8e7b30f8-e95e-4e3c-9f3e-6414c2583ea8",
   "metadata": {},
   "outputs": [],
   "source": [
    "from sklearn.preprocessing import StandardScaler\n"
   ]
  },
  {
   "cell_type": "code",
   "execution_count": 29,
   "id": "22def78a-77bc-45e2-adea-6ed9efe520a2",
   "metadata": {},
   "outputs": [],
   "source": [
    "Y_train_emotions=Y_train_1\n",
    "y_train=[]\n",
    "for i in Y_train_1:\n",
    "    y_train.append(emotions[i])\n",
    "y_train=np.array(y_train)"
   ]
  },
  {
   "cell_type": "code",
   "execution_count": 31,
   "id": "74d47284-1bfe-486a-bfc9-a5b0bbcaf5b0",
   "metadata": {},
   "outputs": [],
   "source": [
    "scaler = StandardScaler()\n",
    "X_train_1 = scaler.fit_transform(X_train_1)"
   ]
  },
  {
   "cell_type": "code",
   "execution_count": 32,
   "id": "fec322c4-755c-44a7-bb6d-c139a766e9cb",
   "metadata": {},
   "outputs": [
    {
     "data": {
      "text/plain": [
       "(2304, 9323)"
      ]
     },
     "execution_count": 32,
     "metadata": {},
     "output_type": "execute_result"
    }
   ],
   "source": [
    "X_train_1.shape"
   ]
  },
  {
   "cell_type": "code",
   "execution_count": 33,
   "id": "4f8e290d-8578-4890-8878-32ad9c0b07b9",
   "metadata": {},
   "outputs": [
    {
     "data": {
      "text/plain": [
       "(9323,)"
      ]
     },
     "execution_count": 33,
     "metadata": {},
     "output_type": "execute_result"
    }
   ],
   "source": [
    "y_train.shape"
   ]
  },
  {
   "cell_type": "markdown",
   "id": "075a8685-f287-4de4-a9cf-bc56ade47c0e",
   "metadata": {},
   "source": [
    "#### converting y_train into (moods,examples) form and the example's mood will be labelled 1 and other to 0"
   ]
  },
  {
   "cell_type": "code",
   "execution_count": 34,
   "id": "4ae5a674-9916-4d91-9b84-d3e48d35111d",
   "metadata": {},
   "outputs": [],
   "source": [
    "tt=[]\n",
    "for i in y_train:\n",
    "    zero=np.zeros(5)\n",
    "    zero[i]=1\n",
    "    tt.append(zero)\n",
    "tt=np.array(tt)"
   ]
  },
  {
   "cell_type": "code",
   "execution_count": 35,
   "id": "32f53d59-b3ea-460a-8599-30cc7fb0022c",
   "metadata": {},
   "outputs": [],
   "source": [
    "y_train_1=tt.T"
   ]
  },
  {
   "cell_type": "code",
   "execution_count": 36,
   "id": "54ced28c-6604-4cb8-8b9d-dffd01c88ac7",
   "metadata": {},
   "outputs": [
    {
     "data": {
      "text/plain": [
       "array([[1., 0., 0., ..., 0., 1., 0.],\n",
       "       [0., 0., 0., ..., 1., 0., 0.],\n",
       "       [0., 0., 0., ..., 0., 0., 0.],\n",
       "       [0., 1., 1., ..., 0., 0., 1.],\n",
       "       [0., 0., 0., ..., 0., 0., 0.]])"
      ]
     },
     "execution_count": 36,
     "metadata": {},
     "output_type": "execute_result"
    }
   ],
   "source": [
    "y_train_1"
   ]
  },
  {
   "cell_type": "markdown",
   "id": "e5ac4e22-3330-418c-bcef-b66b4a6a8026",
   "metadata": {},
   "source": [
    "## CODING NEURAL NETWORK FROM SCRATCH"
   ]
  },
  {
   "cell_type": "code",
   "execution_count": 63,
   "id": "df2286de-b411-464f-952a-8380c9c71e88",
   "metadata": {},
   "outputs": [],
   "source": [
    "class NN:\n",
    "    def __init__(self,emotions,nodes=[100,5]):\n",
    "        self.nodes=nodes\n",
    "        self.emotions=emotions\n",
    "        self.w=None\n",
    "        self.b=None\n",
    "    def forward_prop(self,x,y,y_emotion,parameters):\n",
    "        layers=len(self.nodes)\n",
    "        w=parameters[f'w{1}']\n",
    "        b=parameters[f'b{1}']\n",
    "        a_prev=parameters[f'a{0}']\n",
    "        z1=np.dot(w,a_prev)+b\n",
    "        a1=self.tanh(z1)\n",
    "        parameters[f'z{1}']=z1\n",
    "        parameters[f'a{1}']=a1\n",
    "        z2=np.dot(parameters['w2'],parameters[f'a{1}'])+parameters['b2']\n",
    "        parameters[f'z{layers}'],parameters[f'a{layers}'],parameters['probabilities']=self.softmax(z2,y_emotion)\n",
    "        return parameters\n",
    "        \n",
    "    def fit(self,x,y,y_emotions,lr,iterations=1000):\n",
    "        layers=len(self.nodes)\n",
    "        parameters={\n",
    "            'a0':x\n",
    "        }\n",
    "        dbs=0\n",
    "        # initiate parameters\n",
    "        for i in range(layers):\n",
    "            w=np.random.randn(self.nodes[i],parameters[f'a{i}'].shape[0])*0.01\n",
    "            b=np.zeros((self.nodes[i],1))\n",
    "            parameters[f'w{i+1}']=w\n",
    "            parameters[f'b{i+1}']=b\n",
    "            parameters[f'a{i+1}']=np.zeros((self.nodes[i],parameters[f'a{i}'].shape[1]))\n",
    "            \n",
    "        for i in range(iterations):\n",
    "            parameters=self.forward_prop(x,y,y_emotions,parameters)\n",
    "            costing=self.cost(parameters['a2'],y)\n",
    "            #if ( (i!=0) and ((iterations/i) ==5) or  (i!=0) and ((iterations/i) ==3) or (i!=0) and ((iterations/i)==1)):\n",
    "            if (i%(iterations/10) == 0):\n",
    "                print(f'iteration number {i} : cost = {costing}')\n",
    "            dbs=self.back_prop(parameters,x.shape[1],y)\n",
    "            parameters=self.update_parameters(parameters,dbs,lr)\n",
    "        return parameters,dbs\n",
    "        \n",
    "    def relu(self,x):\n",
    "        return np.maximum(x, 0)\n",
    "        \n",
    "    def update_parameters(self,parameters,dbs,lr):\n",
    "        w1,dw1=parameters['w1'],dbs['dw1']\n",
    "        w2,dw2=parameters['w2'],dbs['dw2']\n",
    "        b1,db1=parameters['b1'],dbs['db1']\n",
    "        b2,db2=parameters['b2'],dbs['db2']\n",
    "        w1=w1-lr*dw1\n",
    "        w2=w2-lr*dw2\n",
    "        b1=b1-lr*db1\n",
    "        b2=b2-lr*db2\n",
    "        parameters['w1']=w1\n",
    "        parameters['b1']=b1\n",
    "        parameters['w2']=w2\n",
    "        parameters['b2']=b2\n",
    "        return parameters\n",
    "        \n",
    "    def softmax(self,z,y):\n",
    "        z1= np.exp(z - np.max(z, axis=0, keepdims=True))\n",
    "        sum=np.sum(z1,axis=0,keepdims=True)\n",
    "        z1=z1/sum\n",
    "        preds=np.zeros(len(y))\n",
    "        for i in range(len(y)):\n",
    "            preds[i]=z1[self.emotions[y[i]],i]\n",
    "        preds=np.array(preds)\n",
    "        \n",
    "        return z,z1,preds\n",
    "        \n",
    "    def softmax_pred(self,z):\n",
    "        z1 = np.exp(z - np.max(z, axis=0, keepdims=True))\n",
    "        sum=np.sum(z1,axis=0,keepdims=True)\n",
    "        z1=z1/sum\n",
    "        return z1\n",
    "        \n",
    "    def cost(self,preds,y):\n",
    "        #z=y*np.log(preds)\n",
    "        #z1=np.sum(z,axis=1)\n",
    "        #z2=-z1/len(y)\n",
    "        m = y.shape[1]\n",
    "        log_likelihood = -np.log(preds[y.argmax(axis=0), range(m)])\n",
    "        loss = np.sum(log_likelihood) / m\n",
    "        return loss\n",
    "        #return np.sum(z2)\n",
    "        \n",
    "    def back_prop(self,parameters,eg,y):\n",
    "        dbs={}\n",
    "        layers=len(self.nodes)\n",
    "        a2=parameters[f'a{layers}']\n",
    "        dz2=a2-y\n",
    "        dw2=(1/eg)*np.dot(dz2,parameters[f'a{layers-1}'].T)\n",
    "        db2=(1/eg)*np.sum(dz2,axis=1,keepdims=True)\n",
    "        dpp=self.derivative_tanh(parameters[f'a{layers-1}'])\n",
    "        dz1= np.dot(parameters['w2'].T,dz2)*dpp\n",
    "        dw1=(1/eg)*np.dot(dz1,parameters[f'a{layers-2}'].T)\n",
    "        db1=(1/eg)*np.sum(dz1,axis=1,keepdims=True)\n",
    "        dbs['dw1']=dw1\n",
    "        dbs['dw2']=dw2\n",
    "        dbs['db1']=db1.reshape(dw1.shape[0],1)\n",
    "        dbs['db2']=db2.reshape(dw2.shape[0],1)\n",
    "        return dbs\n",
    "\n",
    "    def predict(self,test,parameters):\n",
    "        w1=parameters['w1']\n",
    "        w2=parameters['w2']\n",
    "        b1=parameters['b1']\n",
    "        b2=parameters['b2']\n",
    "        z1=np.dot(w1,test)+b1\n",
    "        a1=self.tanh(z1)\n",
    "        z2=np.dot(w2,a1)+b2\n",
    "        #scaler = StandardScaler()\n",
    "        #z2 = scaler.fit_transform(z2)\n",
    "        predictions=self.softmax_pred(z2)\n",
    "        inverted_dict = {value: key for key, value in self.emotions.items()}\n",
    "        predictions=np.argmax(predictions,axis=0)\n",
    "        preds=[]\n",
    "        for i in range(len(predictions)):\n",
    "            preds.append(inverted_dict[predictions[i]])\n",
    "        return preds,predictions\n",
    "        \n",
    "    def tanh(self,x):\n",
    "        return np.tanh(x)\n",
    "        \n",
    "    def derivative_tanh(self,x):\n",
    "        #return (1 - np.power(np.tanh(x), 2))\n",
    "        return 1 - np.power(x, 2)\n",
    "        "
   ]
  },
  {
   "cell_type": "code",
   "execution_count": 59,
   "id": "3e2313d0-2a3e-427e-8c06-3e68814b8f1e",
   "metadata": {},
   "outputs": [],
   "source": [
    "neural=NN(emotions)"
   ]
  },
  {
   "cell_type": "code",
   "execution_count": 60,
   "id": "7fb81679-2586-4620-b4c7-38742de91144",
   "metadata": {},
   "outputs": [
    {
     "name": "stdout",
     "output_type": "stream",
     "text": [
      "iteration number 0 : cost = 1.6062318977651124\n",
      "iteration number 100 : cost = 1.3572465434376648\n",
      "iteration number 200 : cost = 1.2787003294801789\n",
      "iteration number 300 : cost = 1.1807030944491785\n",
      "iteration number 400 : cost = 1.1017001824342856\n",
      "iteration number 500 : cost = 0.9367774796946976\n",
      "iteration number 600 : cost = 0.820606200593138\n",
      "iteration number 700 : cost = 0.7036583870762467\n",
      "iteration number 800 : cost = 0.698278170064\n",
      "iteration number 900 : cost = 0.5313836406969379\n"
     ]
    }
   ],
   "source": [
    "parameters,dbs=neural.fit(X_train_1,y_train_1,Y_train_emotions,0.1)"
   ]
  },
  {
   "cell_type": "code",
   "execution_count": 61,
   "id": "c24c2edf-d6ba-4560-be29-ee99cb4592aa",
   "metadata": {},
   "outputs": [
    {
     "name": "stdout",
     "output_type": "stream",
     "text": [
      "[[2.96500969e-01 3.09822676e-02 1.16445573e-02 ... 1.26444867e-01\n",
      "  5.93464415e-01 5.87263758e-02]\n",
      " [1.67173602e-02 3.01902773e-02 7.05823189e-04 ... 8.40400665e-01\n",
      "  1.12073287e-01 2.27306613e-03]\n",
      " [3.77956695e-01 1.84816696e-02 4.59640056e-01 ... 9.46169911e-03\n",
      "  1.10017781e-01 2.97060892e-02]\n",
      " [6.56399743e-02 5.87473372e-01 5.27629231e-01 ... 9.30553907e-03\n",
      "  8.52788774e-02 9.00294106e-01]\n",
      " [2.43185001e-01 3.32872413e-01 3.80333186e-04 ... 1.43872301e-02\n",
      "  9.91656393e-02 9.00036331e-03]]\n"
     ]
    }
   ],
   "source": [
    "final_ans,predictions=neural.predict(X_train_1,parameters)"
   ]
  },
  {
   "cell_type": "code",
   "execution_count": 62,
   "id": "3f1ff318-9ecb-4af3-8006-27d959525833",
   "metadata": {},
   "outputs": [
    {
     "data": {
      "text/plain": [
       "0.8773999785476778"
      ]
     },
     "execution_count": 62,
     "metadata": {},
     "output_type": "execute_result"
    }
   ],
   "source": [
    "np.sum(final_ans==Y_train_emotions)/len(Y_train_emotions) #IT PERFORMS VERY WELL ON DATA SET"
   ]
  },
  {
   "cell_type": "markdown",
   "id": "d41210c2-95fd-4d13-905f-480cc37b4806",
   "metadata": {},
   "source": [
    "#### ALSO CODED A 3 LAYER NEURAL NETWORK JUST FOR PRACTICE"
   ]
  },
  {
   "cell_type": "code",
   "execution_count": 64,
   "id": "88a53672-bcfb-4fb1-bbe1-788d768f3929",
   "metadata": {},
   "outputs": [],
   "source": [
    "class NN2:\n",
    "    def __init__(self,emotions,nodes=[200,100,5]):\n",
    "        self.nodes=nodes\n",
    "        self.emotions=emotions\n",
    "        self.w=None\n",
    "        self.b=None\n",
    "    def forward_prop(self,x,y,y_emotion,parameters):\n",
    "        layers=len(self.nodes)\n",
    "        w=parameters[f'w{1}']\n",
    "        b=parameters[f'b{1}']\n",
    "        a_prev=parameters[f'a{0}']\n",
    "        z1=np.dot(w,a_prev)+b\n",
    "        a1=self.tanh(z1)\n",
    "        parameters[f'z{1}']=z1\n",
    "        parameters[f'a{1}']=a1\n",
    "        z2=np.dot(parameters['w2'],parameters[f'a{1}'])+parameters['b2']\n",
    "        a2=self.tanh(z2)\n",
    "        parameters['a2']=a2\n",
    "        z3=np.dot(parameters['w3'],a2)+parameters['b3']\n",
    "        parameters[f'z{layers}'],parameters[f'a{layers}'],parameters['probabilities']=self.softmax(z3,y_emotion)\n",
    "        return parameters\n",
    "        \n",
    "    def fit(self,x,y,y_emotions,lr,iterations=100):\n",
    "        layers=len(self.nodes)\n",
    "        parameters={\n",
    "            'a0':x\n",
    "        }\n",
    "        dbs=0\n",
    "        # initiate parameters\n",
    "        for i in range(layers):\n",
    "            w=np.random.randn(self.nodes[i],parameters[f'a{i}'].shape[0])*0.01\n",
    "            b=np.zeros((self.nodes[i],1))\n",
    "            parameters[f'w{i+1}']=w\n",
    "            parameters[f'b{i+1}']=b\n",
    "            parameters[f'a{i+1}']=np.zeros((self.nodes[i],parameters[f'a{i}'].shape[1]))\n",
    "            \n",
    "        for i in range(iterations):\n",
    "            parameters=self.forward_prop(x,y,y_emotions,parameters)\n",
    "            costing=self.cost(parameters['a3'],y)\n",
    "            #if ( (i!=0) and ((iterations/i) ==5) or  (i!=0) and ((iterations/i) ==3) or (i!=0) and ((iterations/i)==1)):\n",
    "            if (i%(iterations/10) == 0):\n",
    "                print(f'iteration number {i} : cost = {costing}')\n",
    "            dbs=self.back_prop(parameters,x.shape[1],y)\n",
    "            parameters=self.update_parameters(parameters,dbs,lr)\n",
    "        return parameters,dbs\n",
    "        \n",
    "    def relu(self,x):\n",
    "        return np.maximum(x, 0)\n",
    "        \n",
    "    def update_parameters(self,parameters,dbs,lr):\n",
    "        w1,dw1=parameters['w1'],dbs['dw1']\n",
    "        w2,dw2=parameters['w2'],dbs['dw2']\n",
    "        b1,db1=parameters['b1'],dbs['db1']\n",
    "        b2,db2=parameters['b2'],dbs['db2']\n",
    "        w3,dw3=parameters['w3'],dbs['dw3']\n",
    "        b3,db3=parameters['b3'],dbs['db3']\n",
    "        w1=w1-lr*dw1\n",
    "        w2=w2-lr*dw2\n",
    "        b1=b1-lr*db1\n",
    "        b2=b2-lr*db2\n",
    "        w3=w3-lr*dw3\n",
    "        b3=b3-lr*db3\n",
    "        parameters['w1']=w1\n",
    "        parameters['b1']=b1\n",
    "        parameters['w2']=w2\n",
    "        parameters['b2']=b2\n",
    "        parameters['w3']=w3\n",
    "        parameters['b3']=b3\n",
    "        return parameters\n",
    "        \n",
    "    def softmax(self,z,y):\n",
    "        z1= np.exp(z - np.max(z, axis=0, keepdims=True))\n",
    "        sum=np.sum(z1,axis=0,keepdims=True)\n",
    "        z1=z1/sum\n",
    "        preds=np.zeros(len(y))\n",
    "        for i in range(len(y)):\n",
    "            preds[i]=z1[self.emotions[y[i]],i]\n",
    "        preds=np.array(preds)\n",
    "        \n",
    "        return z,z1,preds\n",
    "        \n",
    "    def softmax_pred(self,z):\n",
    "        z1 = np.exp(z - np.max(z, axis=0, keepdims=True))\n",
    "        sum=np.sum(z1,axis=0,keepdims=True)\n",
    "        z1=z1/sum\n",
    "        return z1\n",
    "        \n",
    "    def cost(self,preds,y):\n",
    "        #z=y*np.log(preds)\n",
    "        #z1=np.sum(z,axis=1)\n",
    "        #z2=-z1/len(y)\n",
    "        m = y.shape[1]\n",
    "        log_likelihood = -np.log(preds[y.argmax(axis=0), range(m)])\n",
    "        loss = np.sum(log_likelihood) / m\n",
    "        return loss\n",
    "        #return np.sum(z2)\n",
    "        \n",
    "    def back_prop(self,parameters,eg,y):\n",
    "        dbs={}\n",
    "        layers=len(self.nodes)\n",
    "        a3=parameters[f'a{layers}']\n",
    "        dz3=a3-y\n",
    "        dw3=(1/eg)*np.dot(dz3,parameters[f'a{layers-1}'].T)\n",
    "        db3=(1/eg)*np.sum(dz3,axis=1,keepdims=True)\n",
    "        dpp=self.derivative_tanh(parameters[f'a{layers-1}'])\n",
    "        dz2= np.dot(parameters['w3'].T,dz3)*dpp\n",
    "        dw2=(1/eg)*np.dot(dz2,parameters[f'a{layers-2}'].T)\n",
    "        db2=(1/eg)*np.sum(dz2,axis=1,keepdims=True)\n",
    "        dpp1=self.derivative_tanh(parameters[f'a{layers-2}'])\n",
    "        dz1= np.dot(parameters['w2'].T,dz2)*dpp1\n",
    "        dw1=(1/eg)*np.dot(dz1,parameters[f'a{layers-3}'].T)\n",
    "        db1=(1/eg)*np.sum(dz1,axis=1,keepdims=True)\n",
    "        dbs['dw1']=dw1\n",
    "        dbs['dw2']=dw2\n",
    "        dbs['dw3']=dw3\n",
    "        dbs['db1']=db1.reshape(dw1.shape[0],1)\n",
    "        dbs['db2']=db2.reshape(dw2.shape[0],1)\n",
    "        dbs['db3']=db3.reshape(dw3.shape[0],1)\n",
    "        return dbs\n",
    "\n",
    "    def predict(self,test,parameters):\n",
    "        w1=parameters['w1']\n",
    "        w2=parameters['w2']\n",
    "        b1=parameters['b1']\n",
    "        b2=parameters['b2']\n",
    "        w3=parameters['w3']\n",
    "        b3=parameters['b3']\n",
    "        z1=np.dot(w1,test)+b1\n",
    "        a1=self.tanh(z1)\n",
    "        z2=np.dot(w2,a1)+b2\n",
    "        scaler = StandardScaler()\n",
    "        z2 = scaler.fit_transform(z2)\n",
    "        predictions=self.softmax_pred(z2)\n",
    "        print(predictions)\n",
    "        inverted_dict = {value: key for key, value in self.emotions.items()}\n",
    "        predictions=np.argmax(predictions,axis=0)\n",
    "        preds=[]\n",
    "        for i in range(len(predictions)):\n",
    "            preds.append(inverted_dict[predictions[i]])\n",
    "        return preds,predictions\n",
    "        \n",
    "    def tanh(self,x):\n",
    "        return np.tanh(x)\n",
    "        \n",
    "    def derivative_tanh(self,x):\n",
    "        #return (1 - np.power(np.tanh(x), 2))\n",
    "        return 1 - np.power(x, 2)"
   ]
  }
 ],
 "metadata": {
  "kernelspec": {
   "display_name": "Python 3 (ipykernel)",
   "language": "python",
   "name": "python3"
  },
  "language_info": {
   "codemirror_mode": {
    "name": "ipython",
    "version": 3
   },
   "file_extension": ".py",
   "mimetype": "text/x-python",
   "name": "python",
   "nbconvert_exporter": "python",
   "pygments_lexer": "ipython3",
   "version": "3.12.1"
  }
 },
 "nbformat": 4,
 "nbformat_minor": 5
}
